{
 "cells": [
  {
   "cell_type": "markdown",
   "metadata": {},
   "source": [
    "<h4> Caso de estudio usando redes neuronales: alometría de la proporción cabeza/ojo en una especie de pez óseo </h4>\n",
    "<h4> (Neural network study case: alometry of head/eye ratio in a species of fish) </h4>\n",
    "<h5> Este script contiene: \n",
    "<ul>\n",
    "\t<li>El uso de una red neuronal artificial (ANN) para modelar la relación entre la proporción altura de cabeza/diámetro de ojo y la longitud total en una especie de pez óseo (Sebastes oculatus)</li>\n",
    "    <li>Gráficos del modelo final y del resultado del proceso de entrenamiento de la ANN</li>\n",
    "\t<li>Cálculo de R2 (coeficiente de determinación) y error relativo</li>\n",
    "    <li>Comparación del modelo de red neuronal con una regresión lineal clásica</li>\n",
    "</ul>\n",
    "</h5>"
   ]
  },
  {
   "cell_type": "markdown",
   "metadata": {},
   "source": [
    "<h5><b>Configuración básica</b></h5>\n",
    "<h6>Importamos librerías, configuramos los gráficos </h6>"
   ]
  },
  {
   "cell_type": "code",
   "execution_count": 52,
   "metadata": {
    "id": "L4_wgefEk8ZY"
   },
   "outputs": [],
   "source": [
    "import numpy as np                          ## Computación científica (vectores, matrices, etc.)\n",
    "import torch                                ## Framework de redes neturonales\n",
    "from torch import nn \n",
    "from torch.utils.data import Dataset,DataLoader\n",
    "## Librerías de visualización\n",
    "import matplotlib.pyplot as plt             ## Gráficos varios\n",
    "import pandas as pd\n",
    "import dill\n",
    "import json\n",
    "import datetime\n",
    "import os\n",
    "try:\n",
    "  import google.colab\n",
    "  from google.colab import files  \n",
    "  COLAB = True\n",
    "except:\n",
    "  COLAB = False\n",
    "\n",
    "## Configuración general\n",
    "import seaborn as sns \n",
    "sns.set()                                   \n",
    "sns.set_context('talk')\n",
    "%matplotlib inline"
   ]
  },
  {
   "cell_type": "code",
   "execution_count": 53,
   "metadata": {},
   "outputs": [],
   "source": [
    "#Working directory:\n",
    "#cwd = os.getcwd()\n",
    "#cwd"
   ]
  },
  {
   "cell_type": "markdown",
   "metadata": {
    "id": "QDvAZDExWbeA"
   },
   "source": [
    "En el siguiente bloque vemos si la GPU está disponible. Si lo está, la utilizaremos, y si no, usaremos una CPU."
   ]
  },
  {
   "cell_type": "code",
   "execution_count": 54,
   "metadata": {
    "colab": {
     "base_uri": "https://localhost:8080/"
    },
    "id": "oPfKVhIzWZ1E",
    "outputId": "67ed2367-1faa-4fc8-d5c2-778a96e88c28"
   },
   "outputs": [
    {
     "name": "stdout",
     "output_type": "stream",
     "text": [
      "Using cpu device\n"
     ]
    }
   ],
   "source": [
    "## Elegimos si usar CPU o GPU para los cálculos\n",
    "device = \"cuda\" if torch.cuda.is_available() else \"cpu\"\n",
    "print(\"Using {} device\".format(device))"
   ]
  },
  {
   "cell_type": "markdown",
   "metadata": {},
   "source": [
    "<h5><b>Cargamos el dataset</b></h5>"
   ]
  },
  {
   "cell_type": "code",
   "execution_count": 55,
   "metadata": {},
   "outputs": [],
   "source": [
    "##leo csv y convierto datos a tensores de torch\n",
    "\n",
    "#str = unicode(str, errors='replace')\n",
    "\n",
    "#REPLACE FOR YOUR PC ROUTE:\n",
    "df=pd.read_csv('C:\\\\Users\\\\merlo\\\\Documents\\\\Doctorado\\\\CapituloI_LengthEstimations\\\\fitmodel_df.csv',encoding='unicode_escape')\n",
    "\n",
    "# \"Escrófalo\" es el nombre común en español de la especie de interés (Escrófalo is the spanish common name of the target species) \n",
    "tab_escrofalo = df[(df['Especie']=='Escrofalo')][['Radio_AC_AO','Total_length']].reset_index(drop=True)\n",
    "np_escrofalo=tab_escrofalo.to_numpy(copy=True)\n",
    "n_muestras = len(np_escrofalo)\n",
    "\n",
    "X_escrofalo = np_escrofalo[:,0]\n",
    "y_escrofalo = np_escrofalo[:,1]\n",
    "\n",
    "X_esc=torch.from_numpy(X_escrofalo.astype(np.float32)).to(device) #data to device\n",
    "y_esc=torch.from_numpy(y_escrofalo.astype(np.float32)).to(device)\n",
    "\n",
    "X_esc = X_esc.view(X_esc.shape[0], 1)\n",
    "y_esc = y_esc.view(y_esc.shape[0], 1)"
   ]
  },
  {
   "cell_type": "markdown",
   "metadata": {
    "id": "FT_zim6tf65H"
   },
   "source": [
    "Definimos el conjunto de datos en formato Dataset para aprovechar utilidades de Pytorch"
   ]
  },
  {
   "cell_type": "code",
   "execution_count": 56,
   "metadata": {},
   "outputs": [],
   "source": [
    "class CustomTextDataset(Dataset):\n",
    "    def __init__(self, text, labels):\n",
    "        self.labels = labels\n",
    "        self.text = text\n",
    "\n",
    "    def __len__(self):\n",
    "        return len(self.labels)\n",
    "\n",
    "    def __getitem__(self, idx):\n",
    "        label = self.labels[idx]\n",
    "        data = self.text[idx]\n",
    "        sample = (data,label)\n",
    "        return sample\n",
    "TD = CustomTextDataset(X_esc,y_esc)"
   ]
  },
  {
   "cell_type": "markdown",
   "metadata": {
    "id": "U9gfRw94gSS2"
   },
   "source": [
    "<h5><b>Creamos el modelo </b></h5>"
   ]
  },
  {
   "cell_type": "code",
   "execution_count": 57,
   "metadata": {
    "id": "RVyq_P77gaQ-"
   },
   "outputs": [],
   "source": [
    "#Función para reiniciar los pesos para cada \"carpeta\" de la validación cruzada\n",
    "def reset_weights(m):\n",
    "    if isinstance(m, nn.Conv2d) or isinstance(m, nn.Linear):\n",
    "        m.reset_parameters()\n",
    "        \n",
    "# Definimos el modelo\n",
    "class One_hid(nn.Module):\n",
    "    def __init__(self,n_hid=50000,p=0.1):\n",
    "        super().__init__()       \n",
    "        self.flatten = nn.Flatten()\n",
    "        \n",
    "        self.linear_relu_stack = nn.Sequential(\n",
    "            nn.Linear(1, n_hid),  \n",
    "            nn.Dropout(p),\n",
    "            nn.ReLU(),             \n",
    "            nn.Linear(n_hid, 1), \n",
    "        )\n",
    "    def forward(self, x):\n",
    "        x = self.flatten(x)\n",
    "        x = self.linear_relu_stack(x)\n",
    "        return x"
   ]
  },
  {
   "cell_type": "code",
   "execution_count": 58,
   "metadata": {
    "id": "xNHHf2HAgexa"
   },
   "outputs": [],
   "source": [
    "## Definimos la función error o \"loss\"\n",
    "loss_fn = nn.L1Loss()\n",
    "loss_fn_name = 'MAE'"
   ]
  },
  {
   "cell_type": "markdown",
   "metadata": {
    "id": "rnkbcJ0HgiOK"
   },
   "source": [
    "Para cada ciclo de entrenamiento, el modelo hace predicciones sobre el conjunto de entrenamiento, el cual se presenta en lotes (batchs), y hace *backpropagation* del error obtenido para ajustar los parámetros."
   ]
  },
  {
   "cell_type": "code",
   "execution_count": 59,
   "metadata": {
    "id": "CJX_EG0Qghst"
   },
   "outputs": [],
   "source": [
    "def train(dataloader, model, loss_fn, optimizer):\n",
    "    \"\"\"\n",
    "    Entrena el modelo una época.\n",
    "    \"\"\"\n",
    "    size = len(dataloader.dataset)\n",
    "    #size = len(dataloader.sampler)\n",
    "    model.train()\n",
    "    for batch, (X, y) in enumerate(dataloader):\n",
    "        X, y = X.to(device), y.to(device)\n",
    "        \n",
    "        batch_size = X.shape[0]\n",
    "        \n",
    "        ## Calculamos el error en la predicción\n",
    "        pred = model(X)\n",
    "        true = y\n",
    "        loss = loss_fn(pred, true)\n",
    "\n",
    "        ## Ajustamos los pesos haciendo backpropagation\n",
    "        optimizer.zero_grad()\n",
    "        loss.backward()\n",
    "        optimizer.step()\n",
    "        \n",
    "        if batch % 100 == 0:\n",
    "            train_loss = loss.item() / batch_size\n",
    "            current = batch * batch_size\n",
    "            print(f\"loss: {train_loss:>7f}  [{current:>5d}/{size:>5d}]\")"
   ]
  },
  {
   "cell_type": "markdown",
   "metadata": {
    "id": "dqMc6Ea0gn6V"
   },
   "source": [
    "También evaluamos el desempeño del modelo con respecto al conjunto de validación para asegurarnos de que esté aprendiendo.\n"
   ]
  },
  {
   "cell_type": "code",
   "execution_count": 60,
   "metadata": {
    "id": "spslMx6Hgoqm"
   },
   "outputs": [],
   "source": [
    "def test(dataloader, model, loss_fn, verbose=True):\n",
    "    \"\"\"\n",
    "    Evalúa el modelo sobre los datos presentados en el parámetro \"dataloader\",\n",
    "    y calcula las métricas correspondientes.\n",
    "    \"\"\"\n",
    "    size = len(dataloader.dataset)\n",
    "    #size = len(dataloader.sampler)\n",
    "    test_loss = 0\n",
    "    model.eval()\n",
    "    with torch.no_grad():\n",
    "        for X, y in dataloader:\n",
    "            X, y = X.to(device), y.to(device)\n",
    "            y_pred = model(X)\n",
    "            test_loss += loss_fn(y_pred, y).item()            \n",
    "    test_loss /= size    \n",
    "    if verbose:\n",
    "      print(f\"Avg loss: {test_loss:>8f}\")\n",
    "    return test_loss"
   ]
  },
  {
   "cell_type": "markdown",
   "metadata": {
    "id": "woFzMw2hgse5"
   },
   "source": [
    "<h6>El proceso de entrenamiento se lleva a cabo en iteraciones llamadas épocas. Durante cada época, el modelo ajusta los parámetros para mejorar la predicción.</h6>\n",
    "<h6>Imprimimos (Print) el loss para cada época. 'loss' debería disminuir con el transcurso de las épocas</h6>"
   ]
  },
  {
   "cell_type": "code",
   "execution_count": null,
   "metadata": {
    "colab": {
     "base_uri": "https://localhost:8080/",
     "height": 1000
    },
    "id": "MxFqqHU1gs1m",
    "outputId": "2fb24c33-d1a7-47d5-87d2-0925ef9e2032"
   },
   "outputs": [],
   "source": [
    "torch.manual_seed(42) #para permitir replicabilidad\n",
    "batch_size = int(np.round(n_muestras/5))\n",
    "dataset = TD\n",
    "dataloader = DataLoader(dataset, batch_size=batch_size,shuffle=True)\n",
    "df = pd.DataFrame()\n",
    "epochs = 197       #epoch con menor loss entre las primeras 200 epochs \n",
    "learning_rate =1e-2     #basado en proceso previo de obtención de hiperparámetros (no en este notebook)\n",
    "\n",
    "## \"enviamos\" el modelo a la GPU o a la CPU,\n",
    "model = One_hid()\n",
    "model.to(device)\n",
    "\n",
    "adam_optimizer = torch.optim.Adam(\n",
    "  model.parameters(),\n",
    "  lr=learning_rate\n",
    ")\n",
    "optimizer = adam_optimizer\n",
    "\n",
    "model.apply(reset_weights)\n",
    "train_losses = []\n",
    "test_losses = []\n",
    "train_acc_values = []\n",
    "test_acc_values = []\n",
    "\n",
    "for epoch in range(1, epochs+1):\n",
    "    print(f'Época {epoch}')\n",
    "    ## Entreno una época del modelo\n",
    "    train(dataloader, model, loss_fn, optimizer)\n",
    "\n",
    "    ## Evaluo sobre el consjunto de entrenamiento\n",
    "    print()\n",
    "    print('Train performance:')\n",
    "    train_loss = test(dataloader, model, loss_fn)\n",
    "    train_losses.append(train_loss)   \n",
    "\n",
    "    df = df.append({\"epoch\":epoch,\n",
    "                    \"train_loss\":train_loss}\n",
    "                    ,ignore_index=True)\n",
    "\n",
    "json_fname = \"simulation-results-\"+datetime.datetime.now().strftime(\"%Y-%m-%d-%H-%M-%S\")+\".json\"\n",
    "df.to_json(json_fname)\n",
    "if COLAB:\n",
    "    files.download(json_fname)\n",
    "\n",
    "print(\"Done!\")"
   ]
  },
  {
   "cell_type": "code",
   "execution_count": 63,
   "metadata": {},
   "outputs": [
    {
     "data": {
      "text/plain": [
       "[<matplotlib.lines.Line2D at 0x1535b5b3970>]"
      ]
     },
     "execution_count": 63,
     "metadata": {},
     "output_type": "execute_result"
    },
    {
     "data": {
      "image/png": "[encoded data removed]",
      "text/plain": [
       "<Figure size 640x480 with 1 Axes>"
      ]
     },
     "metadata": {},
     "output_type": "display_data"
    }
   ],
   "source": [
    "##grafico de la evolucion del aprendizaje neuronal\n",
    "plt.plot(df[\"epoch\"],df[\"train_loss\"])"
   ]
  },
  {
   "cell_type": "code",
   "execution_count": 64,
   "metadata": {},
   "outputs": [],
   "source": [
    "##Obtengo los valores predichos por el modelo de red neuronal\n",
    "predicted = model(X_esc).cpu().detach().numpy()\n",
    "predicted = np.squeeze(predicted)"
   ]
  },
  {
   "cell_type": "code",
   "execution_count": 65,
   "metadata": {},
   "outputs": [],
   "source": [
    "#print(df[\"train_loss\"].idxmin(0)) # encontramos la época donde el \"loss\" es menor"
   ]
  },
  {
   "cell_type": "code",
   "execution_count": 66,
   "metadata": {},
   "outputs": [
    {
     "data": {
      "image/png": "[encoded data removed]",
      "text/plain": [
       "<Figure size 500x400 with 1 Axes>"
      ]
     },
     "metadata": {},
     "output_type": "display_data"
    }
   ],
   "source": [
    "##Ordeno los puntos para graficar\n",
    "ord_ind = np.argsort(X_escrofalo)\n",
    "X_escrofalo = X_escrofalo[ord_ind]\n",
    "y_escrofalo = y_escrofalo[ord_ind]\n",
    "\n",
    "predicted = predicted[ord_ind]\n",
    "\n",
    "fig,ax = plt.subplots(1,1,figsize=(5, 4))\n",
    "ax.set_facecolor(\"white\") \n",
    "plt.plot(X_escrofalo, y_escrofalo, 'ko', markersize=8)\n",
    "plt.plot(X_escrofalo, predicted, 'r-')\n",
    "\n",
    "ax.spines['bottom'].set_color('black')\n",
    "ax.spines['top'].set_color('black')\n",
    "ax.spines['left'].set_color('black')\n",
    "ax.spines['right'].set_color('black')\n",
    "\n",
    "plt.ylim(0, 500)\n",
    "plt.yticks([100,200,300,400,500])\n",
    "\n",
    "plt.xlabel(\"Ratio HH:ED\", fontweight='bold')\n",
    "plt.ylabel(\"Total length (mm)\", fontweight='bold')\n",
    "  \n",
    "#plt.title(\"Sebastes oculatus\")\n",
    "\n",
    "plt.tick_params(axis='both', direction='out', length=5, width=1, colors='black',grid_color='grey', grid_alpha=0.5)\n",
    "\n",
    "#plt.savefig('RedNeuronal_escrofalo.tiff', dpi=300, bbox_inches='tight', facecolor='white')"
   ]
  },
  {
   "cell_type": "code",
   "execution_count": 67,
   "metadata": {},
   "outputs": [
    {
     "data": {
      "image/png": "[encoded data removed]",
      "text/plain": [
       "<Figure size 500x400 with 1 Axes>"
      ]
     },
     "metadata": {},
     "output_type": "display_data"
    }
   ],
   "source": [
    "##Ordeno los puntos para graficar\n",
    "ord_ind = np.argsort(X_escrofalo)\n",
    "X_escrofalo = X_escrofalo[ord_ind]\n",
    "y_escrofalo = y_escrofalo[ord_ind]\n",
    "\n",
    "#ANN\n",
    "predicted_ann = predicted[ord_ind]\n",
    "\n",
    "#regression\n",
    "predicted_LinReg =  172.2*X_escrofalo - 322.2  \n",
    "\n",
    "fig,ax = plt.subplots(1,1,figsize=(5, 4))\n",
    "ax.set_facecolor(\"white\") \n",
    "plt.plot(X_escrofalo, y_escrofalo, 'ko')\n",
    "plt.plot(X_escrofalo, predicted_ann, 'r-', label =\"ANN\")\n",
    "plt.plot(X_escrofalo, predicted_reg, 'b-', label =\"Linear Regression\")\n",
    "\n",
    "\n",
    "ax.spines['bottom'].set_color('black')\n",
    "ax.spines['top'].set_color('black')\n",
    "ax.spines['left'].set_color('black')\n",
    "ax.spines['right'].set_color('black')\n",
    "\n",
    "plt.ylim(0, 500)\n",
    "plt.yticks([100,200,300,400])\n",
    "\n",
    "plt.xlabel(\"Ratio HH:ED\", fontweight='bold')\n",
    "\n",
    "plt.ylabel(\"Total length (mm)\", fontweight='bold')\n",
    "plt.legend()  \n",
    "#plt.title(\"Sebastes oculatus\")\n",
    "\n",
    "plt.tick_params(axis='both', direction='out', length=5, width=1, colors='black',grid_color='grey', grid_alpha=0.5)\n",
    "\n",
    "#plt.savefig('RedNeuronal_escrofalo_comparison.tiff', dpi=300, bbox_inches='tight', facecolor='white')"
   ]
  },
  {
   "cell_type": "markdown",
   "metadata": {},
   "source": [
    "-El uso de A.I (redes neuronales) representa una poderosa técnica de modelado con ventajas sobre las regresiones convencionales cuando se desconoce la asociación subyacente entre variables y los datos tienen \"ruido\". A continuación, compararemos el rendimiento (error y R2) entre ANN y modelos lineales para verificar que se cumplan estas ventajas.\n",
    "\n",
    "-The use of A.I (neural networks) represent a powerful modelling technique with advantages over conventional regressions when the underlying association between variables is unknown and data is noisy. Next, we will compare the performance (error and R2 metrics) between ANN and linear models to verify that these advantages are met."
   ]
  },
  {
   "cell_type": "markdown",
   "metadata": {},
   "source": [
    "<h5> Defino diversos índices de error </h5>  "
   ]
  },
  {
   "cell_type": "code",
   "execution_count": 68,
   "metadata": {},
   "outputs": [],
   "source": [
    "def mae(y_value, predictions): #Mean Absolute Error\n",
    "    y_value, predictions = np.array(y_value), np.array(predictions)\n",
    "    return np.mean(np.abs(y_value - predictions))"
   ]
  },
  {
   "cell_type": "code",
   "execution_count": 69,
   "metadata": {},
   "outputs": [],
   "source": [
    "def mrae(y_value, predictions): #Mean Relative Absolute Error\n",
    "    y_value, predictions = np.array(y_value), np.array(predictions)\n",
    "    return np.mean((np.abs(y_value - predictions))/np.abs(y_value))"
   ]
  },
  {
   "cell_type": "code",
   "execution_count": 70,
   "metadata": {},
   "outputs": [],
   "source": [
    "def mape(actual, predicted):   #Mean Absolute Percentage Error\n",
    "    return np.mean(np.abs((actual - predicted) / actual)) * 100"
   ]
  },
  {
   "cell_type": "code",
   "execution_count": 71,
   "metadata": {},
   "outputs": [
    {
     "data": {
      "text/html": [
       "<div>\n",
       "<style scoped>\n",
       "    .dataframe tbody tr th:only-of-type {\n",
       "        vertical-align: middle;\n",
       "    }\n",
       "\n",
       "    .dataframe tbody tr th {\n",
       "        vertical-align: top;\n",
       "    }\n",
       "\n",
       "    .dataframe thead th {\n",
       "        text-align: right;\n",
       "    }\n",
       "</style>\n",
       "<table border=\"1\" class=\"dataframe\">\n",
       "  <thead>\n",
       "    <tr style=\"text-align: right;\">\n",
       "      <th></th>\n",
       "      <th>mae</th>\n",
       "      <th>mrae</th>\n",
       "      <th>mape</th>\n",
       "    </tr>\n",
       "  </thead>\n",
       "  <tbody>\n",
       "    <tr>\n",
       "      <th>Escrofalo</th>\n",
       "      <td>21.516827</td>\n",
       "      <td>0.139426</td>\n",
       "      <td>13.942558</td>\n",
       "    </tr>\n",
       "  </tbody>\n",
       "</table>\n",
       "</div>"
      ],
      "text/plain": [
       "                 mae      mrae       mape\n",
       "Escrofalo  21.516827  0.139426  13.942558"
      ]
     },
     "execution_count": 71,
     "metadata": {},
     "output_type": "execute_result"
    }
   ],
   "source": [
    "#MÉTRICAS DE ERROR PARA RED NEURONAL ARTIFICIAL (ANN):\n",
    "metrics_ann= {'mae': mae(y_escrofalo,predicted), 'mrae': mrae(y_escrofalo,predicted), 'mape':mape(y_escrofalo,predicted)}\n",
    "metrics_ann=pd.DataFrame(metrics_ann, index=['Escrofalo'])\n",
    "metrics_ann\n",
    "#metrics_ann.to_csv('escrofalo_metrics.csv')"
   ]
  },
  {
   "cell_type": "code",
   "execution_count": 72,
   "metadata": {},
   "outputs": [
    {
     "data": {
      "text/html": [
       "<div>\n",
       "<style scoped>\n",
       "    .dataframe tbody tr th:only-of-type {\n",
       "        vertical-align: middle;\n",
       "    }\n",
       "\n",
       "    .dataframe tbody tr th {\n",
       "        vertical-align: top;\n",
       "    }\n",
       "\n",
       "    .dataframe thead th {\n",
       "        text-align: right;\n",
       "    }\n",
       "</style>\n",
       "<table border=\"1\" class=\"dataframe\">\n",
       "  <thead>\n",
       "    <tr style=\"text-align: right;\">\n",
       "      <th></th>\n",
       "      <th>mae</th>\n",
       "      <th>mrae</th>\n",
       "      <th>mape</th>\n",
       "    </tr>\n",
       "  </thead>\n",
       "  <tbody>\n",
       "    <tr>\n",
       "      <th>Escrofalo</th>\n",
       "      <td>30.647821</td>\n",
       "      <td>0.176363</td>\n",
       "      <td>17.63632</td>\n",
       "    </tr>\n",
       "  </tbody>\n",
       "</table>\n",
       "</div>"
      ],
      "text/plain": [
       "                 mae      mrae      mape\n",
       "Escrofalo  30.647821  0.176363  17.63632"
      ]
     },
     "execution_count": 72,
     "metadata": {},
     "output_type": "execute_result"
    }
   ],
   "source": [
    "#MÉTRICAS DE ERROR PARA REGRESIÓN LINEAL:\n",
    "metrics_RegLin= {'mae': mae(y_escrofalo,predicted_reg), 'mrae': mrae(y_escrofalo,predicted_reg), 'mape':mape(y_escrofalo,predicted_reg)}\n",
    "metrics_RegLin=pd.DataFrame(metrics_RegLin, index=['Escrofalo'])\n",
    "metrics_RegLin"
   ]
  },
  {
   "cell_type": "markdown",
   "metadata": {},
   "source": [
    "<b> Vemos que el error es menor en el modelo de red neuronal (ANN) en todas las métricas </b> \n",
    "<h5> the error is lower in the neural network (ANN) model with all metrics used </h5>"
   ]
  },
  {
   "cell_type": "markdown",
   "metadata": {},
   "source": [
    "<h5> Calculo el coeficiente de determinación (R2) </h5>  "
   ]
  },
  {
   "cell_type": "code",
   "execution_count": 74,
   "metadata": {},
   "outputs": [
    {
     "name": "stdout",
     "output_type": "stream",
     "text": [
      "0.9030013468533435\n"
     ]
    }
   ],
   "source": [
    "#Calculo R2\n",
    "y_bar = np.mean(y_escrofalo)\n",
    "SS_res = np.sum((y_escrofalo - np.squeeze(predicted))**2)\n",
    "SS_tot = np.sum((y_bar - np.squeeze(predicted))**2)\n",
    "R2_ann = 1-SS_res/SS_tot\n",
    "print(R2_ann)"
   ]
  },
  {
   "cell_type": "markdown",
   "metadata": {},
   "source": [
    "R2 = 0.90 implica que el model oes capaz de explicar el 90% de la variabilidad de la talla total (total length) en esta especie.\n",
    "<h6> R2 value implies that the model is capable of explaining 90% of the variability of total length in this species </h6>"
   ]
  },
  {
   "cell_type": "code",
   "execution_count": 75,
   "metadata": {},
   "outputs": [
    {
     "name": "stdout",
     "output_type": "stream",
     "text": [
      "0.8182371710565394\n"
     ]
    }
   ],
   "source": [
    "#Calculo R2\n",
    "y_bar = np.mean(y_escrofalo)\n",
    "SS_res = np.sum((y_escrofalo - predicted_reg)**2)\n",
    "SS_tot = np.sum((y_bar - predicted_reg)**2)\n",
    "R2_LinReg = 1-SS_res/SS_tot\n",
    "print(R2_LinReg)"
   ]
  },
  {
   "cell_type": "markdown",
   "metadata": {},
   "source": [
    "<b> Vemos que el R2 es mayor en el modelo de red neuronal (ANN), por lo que dicho modelo explica mejor las variaciones en la talla total cuando cambia el head/eye ratio </b> \n",
    "<h5> The R2 is greater in the neural network (ANN) model, so this model better explains the variations in total length when the head/eye ratio changes."
   ]
  },
  {
   "cell_type": "markdown",
   "metadata": {},
   "source": [
    "<h4> Hago predicciones de talla para nuevos datos: </h4>"
   ]
  },
  {
   "cell_type": "code",
   "execution_count": 76,
   "metadata": {},
   "outputs": [
    {
     "data": {
      "text/plain": [
       "array([358.42438, 220.18343, 359.09164, 304.74786,  73.4556 , 136.53157,\n",
       "       297.9433 , 287.7533 , 241.0498 ,  55.55863], dtype=float32)"
      ]
     },
     "execution_count": 76,
     "metadata": {},
     "output_type": "execute_result"
    }
   ],
   "source": [
    "#REPLACE FOR YOUR PC ROUTE:\n",
    "df_test=pd.read_csv('C:\\\\Users\\\\merlo\\\\Documents\\\\Doctorado\\\\CapituloI_LengthEstimations\\\\newdata_df.csv',encoding='unicode_escape')\n",
    "tab_escrofalo_test = df_test[(df_test['Especie']=='Escrofalo')][['R_cab_ojo','Waypoints']].reset_index(drop=True)\n",
    "np_escrofalo_test=tab_escrofalo_test.to_numpy(copy=True)\n",
    "n_muestras = len(np_escrofalo_test)\n",
    "\n",
    "X_escrofalo_test = np_escrofalo_test[:,0].astype(np.float32)\n",
    "\n",
    "tab_length = df_test[(df_test['Especie']=='Escrofalo')][['Length']].reset_index(drop=True)\n",
    "np_tab_length=tab_length.to_numpy(copy=True)\n",
    "np_length = np_tab_length[:,0].astype(np.float32)\n",
    "\n",
    "\n",
    "X_m_test=torch.from_numpy(X_escrofalo_test.astype(np.float32)).to(device)\n",
    "X_m_test = X_m_test.view(X_m_test.shape[0], 1)\n",
    "\n",
    "predicted_test = model(X_m_test).cpu().detach().numpy()\n",
    "predicted_test = np.squeeze(predicted_test)\n",
    "predicted_test[0:10] #veo los primeros valores predichos para un nuevo set de datos."
   ]
  },
  {
   "cell_type": "raw",
   "metadata": {},
   "source": [
    "## Ordeno y ploteo los predichos para un nuevo set de datos\n",
    "ord_ind_test = np.argsort(X_escrofalo_test)\n",
    "X_escrofalo_test = X_escrofalo_test[ord_ind_test]\n",
    "predicted_test = predicted_test[ord_ind_test]\n",
    "np_length = np_length[ord_ind_test]\n",
    "\n",
    "plt.plot(X_escrofalo_test, predicted_test, 'ko')"
   ]
  },
  {
   "cell_type": "markdown",
   "metadata": {
    "id": "d-6D7W49g4VW"
   },
   "source": [
    "<h4> Guardamos el modelo </h4>\n",
    "---------------------\n",
    "\n",
    "Una forma estándar de guardar el modelo es \"serializar\" el diccionario con el estado interno del mismo, el cual contiene los parámetros del modelo."
   ]
  },
  {
   "cell_type": "code",
   "execution_count": null,
   "metadata": {
    "colab": {
     "base_uri": "https://localhost:8080/"
    },
    "id": "FwiaiCeHg5N5",
    "outputId": "45e05860-5753-4656-eb67-bf095be96320"
   },
   "outputs": [],
   "source": [
    "torch.save(model.state_dict(), \"model_escrofalo.pth\")\n",
    "print(\"Saved PyTorch Model State to model_escrofalo.pth\")"
   ]
  },
  {
   "cell_type": "markdown",
   "metadata": {
    "id": "byIwoxfRg7Xa"
   },
   "source": [
    "<h4> Cargamos un modelo guardado </h4>\n",
    "----------------------------\n",
    "\n",
    "Para cargar un modelo almacenado, tenemos que recrear la estructura del modelo (definir una nueva instancia de nuestra clase) y cargar el diccionario con el estado interno (los parámetros)."
   ]
  },
  {
   "cell_type": "raw",
   "metadata": {
    "colab": {
     "base_uri": "https://localhost:8080/",
     "height": 200
    },
    "id": "f3SyUrbcg7vJ",
    "outputId": "120f518c-442a-4d47-fe6a-01c81269ef38"
   },
   "source": [
    "model = One_hid().to(device)\n",
    "model.load_state_dict(torch.load(\"model_escrofalo.pth\"))"
   ]
  }
 ],
 "metadata": {
  "accelerator": "GPU",
  "colab": {
   "collapsed_sections": [],
   "name": "Red alometria.ipynb",
   "provenance": [],
   "toc_visible": true
  },
  "kernelspec": {
   "display_name": "Python 3 (ipykernel)",
   "language": "python",
   "name": "python3"
  },
  "language_info": {
   "codemirror_mode": {
    "name": "ipython",
    "version": 3
   },
   "file_extension": ".py",
   "mimetype": "text/x-python",
   "name": "python",
   "nbconvert_exporter": "python",
   "pygments_lexer": "ipython3",
   "version": "3.10.9"
  }
 },
 "nbformat": 4,
 "nbformat_minor": 4
}
